{
 "cells": [
  {
   "cell_type": "code",
   "execution_count": 3,
   "metadata": {},
   "outputs": [
    {
     "data": {
      "text/plain": [
       "True"
      ]
     },
     "execution_count": 3,
     "metadata": {},
     "output_type": "execute_result"
    }
   ],
   "source": [
    "def isprime(n):\n",
    "    flag = True\n",
    "    for i in range( 2,n//2+1):\n",
    "        if n % i == 0 :\n",
    "            flag + False\n",
    "            return flag\n",
    "        return flag\n",
    "isprime(11)"
   ]
  },
  {
   "cell_type": "code",
   "execution_count": 5,
   "metadata": {},
   "outputs": [
    {
     "data": {
      "text/plain": [
       "4"
      ]
     },
     "execution_count": 5,
     "metadata": {},
     "output_type": "execute_result"
    }
   ],
   "source": [
    "# function to find prime numbers count from 1 ro n\n",
    "# 10 -- 4(2,3,5,7)\n",
    "def primecount(n):\n",
    "    cnt = 0\n",
    "    for a in range(2,n+1):\n",
    "        k = 0\n",
    "        for i in  range(2,a//2+1):\n",
    "            if a % i == 0:\n",
    "                k = k+1\n",
    "        if(k<=0): \n",
    "            cnt = cnt + 1\n",
    "    return cnt\n",
    "primecount(10)"
   ]
  },
  {
   "cell_type": "code",
   "execution_count": 23,
   "metadata": {},
   "outputs": [
    {
     "name": "stdout",
     "output_type": "stream",
     "text": [
      "Yes\n",
      "No\n"
     ]
    }
   ],
   "source": [
    "# individual digit \n",
    "# 145 -- yes (5! + 4! + 1! = 145)\n",
    "# 123 -- no (3! + 2! +1! = 9)\n",
    "def factorial(n):\n",
    "    fact = 1\n",
    "    for i in range(2,n+1):\n",
    "        fact *= i\n",
    "    return fact\n",
    "def digitFactSum(n):\n",
    "    sum = 0\n",
    "    buffer = n \n",
    "    while n!= 0:\n",
    "        r = n % 10\n",
    "        sum += factorial(r)\n",
    "        n = n // 10\n",
    "    if sum == buffer:\n",
    "            return \"Yes\"\n",
    "    else:\n",
    "            return \"No\"\n",
    "    return\n",
    "print(digitFactSum(145))\n",
    "print(digitFactSum(123))"
   ]
  },
  {
   "cell_type": "code",
   "execution_count": 37,
   "metadata": {},
   "outputs": [
    {
     "data": {
      "text/plain": [
       "9"
      ]
     },
     "execution_count": 37,
     "metadata": {},
     "output_type": "execute_result"
    }
   ],
   "source": [
    "# function to retain the count of palindrome number between two limits\n",
    "# input: 11 100\n",
    "# output: 9(11,22,33.......99)\n",
    "def isPalindrome(n):\n",
    "    rev = 0\n",
    "    buffer = n\n",
    "    while n!=0:\n",
    "        r=n%10\n",
    "        rev=rev*10+r\n",
    "        n =n//10\n",
    "    if rev == buffer: \n",
    "        return True\n",
    "    else:\n",
    "        return False\n",
    "    return\n",
    "def countPalindrome(lb,ub):\n",
    "    cnt=0\n",
    "    while lb!=ub:\n",
    "        if isPalindrome(lb)==True:\n",
    "            cnt=cnt+1\n",
    "        lb=lb+1\n",
    "    return cnt \n",
    "countPalindrome(11,100)"
   ]
  },
  {
   "cell_type": "code",
   "execution_count": 22,
   "metadata": {},
   "outputs": [
    {
     "name": "stdout",
     "output_type": "stream",
     "text": [
      "P T "
     ]
    }
   ],
   "source": [
    "# function to print the upper case characters \n",
    "# A - Z: 65 - 90\n",
    "# a - z: 97 - 122\n",
    "# 0 - 9: 48 - 57\n",
    "# space : 32 \n",
    "def printUpper(x):\n",
    "    for i in range(len(x)):\n",
    "        if ord(x[i])>=65 and ord(x[i])<=90:\n",
    "            print(x[i],end=\" \")\n",
    "    return\n",
    "printUpper(\"PyThon\")"
   ]
  },
  {
   "cell_type": "code",
   "execution_count": 55,
   "metadata": {},
   "outputs": [
    {
     "data": {
      "text/plain": [
       "'Programming'"
      ]
     },
     "execution_count": 55,
     "metadata": {},
     "output_type": "execute_result"
    }
   ],
   "source": [
    "# funtion to print \"samecount\" if the count of \n",
    "# upper and lower case is same\n",
    "# print \"programming if not same\n",
    "# example : python -- 3  P T O(upper case) -- samecount\n",
    "#                     3  y h n(lower case)\n",
    "# python -- P H (2)\n",
    "#        -- y to n (4) - programming\n",
    "def findcount(str):\n",
    "    cntupper = 0\n",
    "    cntlower = 0\n",
    "    for x in range(len(str)):\n",
    "        if ord(str[x])>=65 and ord(str[x])<=90:\n",
    "            cntupper =cntupper+1\n",
    "        elif ord(str[x])>=97 and ord(str[x])<=122:\n",
    "            cntlower=cntlower+1\n",
    "    if cntupper==cntlower:\n",
    "        return \"samecount\"\n",
    "    else:\n",
    "        return \"Programming\"\n",
    "    return\n",
    "findcount('PythOn')\n",
    "findcount('PyThon')"
   ]
  },
  {
   "cell_type": "code",
   "execution_count": 52,
   "metadata": {},
   "outputs": [
    {
     "name": "stdout",
     "output_type": "stream",
     "text": [
      "1 8 8 9 "
     ]
    }
   ],
   "source": [
    "def extractDigits(str):\n",
    "    for x in range(len(str)):\n",
    "        if ord(str[x])>=48 and ord(str[x])<=57:\n",
    "            print(str[x],end=\" \")\n",
    "    return\n",
    "extractDigits(\"Application1889\")\n"
   ]
  },
  {
   "cell_type": "code",
   "execution_count": 39,
   "metadata": {},
   "outputs": [
    {
     "data": {
      "text/plain": [
       "50"
      ]
     },
     "execution_count": 39,
     "metadata": {},
     "output_type": "execute_result"
    }
   ],
   "source": [
    "def sumofDigits(str):\n",
    "    sum = 0\n",
    "    for x in range(len(str)):\n",
    "        if ord(str[x]) >=48 and ord(str[x]) <=57:\n",
    "            sum = sum + (ord(str[x])-48)\n",
    "    return sum\n",
    "sumofDigits(\"app342145icat67i990on\")"
   ]
  },
  {
   "cell_type": "code",
   "execution_count": 40,
   "metadata": {},
   "outputs": [
    {
     "data": {
      "text/plain": [
       "18"
      ]
     },
     "execution_count": 40,
     "metadata": {},
     "output_type": "execute_result"
    }
   ],
   "source": [
    "def sumofevendigits(str):\n",
    "    sum=0\n",
    "    for x in range(len(str)):\n",
    "        if ord(str[x])-48 and ord(str[x])<57:\n",
    "            sum=sum+(ord(str[x])-48)\n",
    "    return sum\n",
    "sumofevendigits(\"ajfjkfdfkm,clkfo349348\")"
   ]
  },
  {
   "cell_type": "code",
   "execution_count": null,
   "metadata": {},
   "outputs": [],
   "source": [
    "def worduppercase(s)\n",
    "    spaceCnt = 0\n",
    "    for x in range(len(s)):\n",
    "        \n",
    "        if ord(s[x]) == 32:\n",
    "            spaceCnt += 1\n",
    "        if spaceCnt == 1:\n",
    "            if ord(s[x]) >= 65 and ord(s[x]) <= 90:\n",
    "                print(s[x],end=\"\")\n",
    "            elif ord(s[x]) >= 97 and ord(s[x])"
   ]
  },
  {
   "cell_type": "code",
   "execution_count": null,
   "metadata": {},
   "outputs": [],
   "source": []
  }
 ],
 "metadata": {
  "kernelspec": {
   "display_name": "Python 3",
   "language": "python",
   "name": "python3"
  },
  "language_info": {
   "codemirror_mode": {
    "name": "ipython",
    "version": 3
   },
   "file_extension": ".py",
   "mimetype": "text/x-python",
   "name": "python",
   "nbconvert_exporter": "python",
   "pygments_lexer": "ipython3",
   "version": "3.7.3"
  }
 },
 "nbformat": 4,
 "nbformat_minor": 2
}

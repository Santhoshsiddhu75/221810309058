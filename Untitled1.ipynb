  In [1]:
#find the large number from the given 3 numbers a1 = int(input("enter number 1")) a2 = int(input("enter number 2")) a3 = int(input("enter number 3")) if a1>a2 and a1>a3: print(a1, "is the large number") elif a2>a1 and a2>a3: print(a2, "is the large number") else: print(a3,"is the large number") 
enter number 112 enter number 216 enter number 310 16 is the large number 
In [3]:
#check if a year is leap year or not year = int(input("enter year")) if year%400 == 0 or (year % 100 !=0 and year % 4 == 0): print("leap year") else: print("not a leap year") 
enter year2018 not a leap year 
In [4]:
# need print "Gitam" for 5 times x = 0 while x < 5 : print("gitam") x = x + 1 
gitam gitam gitam gitam gitam 
In [6]:
# print N natural numbers using while loop # input - 10 # output - 1 2 3 ..... 10 x = 0 while x < 11 : print(x) x = x + 1 
0 1 2 3 4 5 6 7 8 9 10 
In [12]:
# read a number -- n # add only even numbers between 1 to n # input -- 10 # output -- 30(2 + 4 + 6 + 8 + 10) n = int(input("enter a number")) i = 1 sum = 0 while i <= n: if i % 2 == 0: sum = sum + i i = i + 1 print(sum) 
enter a number6 12 
In [15]:
# number as a number -- 123 # print the digits of given number : 3 2 1 n = int(input('enter a number ')) while n != 0: r = n % 10 print(r,end = " ") n = n // 10 
enter a number 123 3 2 1 
In [ ]:
In [ ]:
# read a number -- 1234 # output -- 6(2+4) def addevenDigits(n): sum = 0 while n!= 0: r = n % 10 if r % 2 == 0: sum = sum + r n = n // 10 addevenDigits(1234) 
In [23]:
# Read a number -- 19528 # print the large digit print the number def printlarge(n): large = 0 while n != 0: r = n % 10 if large < r: large = r n = n // 10 return large printlarge(19528) 
In [25]:
# read a number input # output reverse of the given number # 123 -- 321 def reversenumber(n): rev = 0 while n != 0: r = n % 10 rev = rev * 10 + r n = n // 10 return rev reversenumber(123) 
Out[25]:
321
In [27]:
def ispalindrome(n): rev = 0 buffer = n while n != 0: r = n % 10 rev = rev * 10 + r n = n // 10 if buffer == rev: return "yes" else: return "no" print(ispalindrome(123)) print(
